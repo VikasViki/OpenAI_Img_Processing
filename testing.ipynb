{
 "cells": [
  {
   "cell_type": "code",
   "execution_count": 4,
   "id": "ffe29c10-2c91-4174-b1b0-8820f37aed0d",
   "metadata": {},
   "outputs": [],
   "source": [
    "import sys"
   ]
  },
  {
   "cell_type": "code",
   "execution_count": 9,
   "id": "a0bd435f-0175-43df-8601-521d304de5b6",
   "metadata": {},
   "outputs": [
    {
     "name": "stdout",
     "output_type": "stream",
     "text": [
      "Collecting opencv-python\n",
      "  Downloading opencv_python-4.10.0.84-cp37-abi3-macosx_12_0_x86_64.whl (56.5 MB)\n",
      "\u001b[2K     \u001b[90m━━━━━━━━━━━━━━━━━━━━━━━━━━━━━━━━━━━━━━━━\u001b[0m \u001b[32m56.5/56.5 MB\u001b[0m \u001b[31m3.5 MB/s\u001b[0m eta \u001b[36m0:00:00\u001b[0m00:01\u001b[0m00:01\u001b[0mm\n",
      "\u001b[?25hRequirement already satisfied: numpy>=1.17.0 in /Users/vikas.tiwari/.pyenv/versions/3.9.15/lib/python3.9/site-packages (from opencv-python) (2.0.2)\n",
      "Installing collected packages: opencv-python\n",
      "Successfully installed opencv-python-4.10.0.84\n",
      "\u001b[33mWARNING: You are using pip version 22.0.4; however, version 24.3.1 is available.\n",
      "You should consider upgrading via the '/Users/vikas.tiwari/.pyenv/versions/3.9.15/bin/python3 -m pip install --upgrade pip' command.\u001b[0m\u001b[33m\n",
      "\u001b[0m"
     ]
    }
   ],
   "source": [
    "!{sys.executable} -m pip install opencv-python"
   ]
  },
  {
   "cell_type": "code",
   "execution_count": 43,
   "id": "ed3a3d8b-d101-4c3b-99ac-ac7652b2ed40",
   "metadata": {},
   "outputs": [],
   "source": [
    "import numpy as np \n",
    "from matplotlib import pyplot as plt"
   ]
  },
  {
   "cell_type": "code",
   "execution_count": 7,
   "id": "3f4bffe3-9c58-4b87-a20e-c81dffcea110",
   "metadata": {},
   "outputs": [],
   "source": [
    "row1 = \"9000.1\t224\t224\t224\t224\t224\t224\t224\t224\t224\t224\t224\t224\t224\t224\t224\t224\t224\t224\t224\t224\t224\t224\t224\t224\t224\t224\t224\t224\t224\t224\t224\t224\t224\t224\t224\t224\t224\t224\t224\t224\t224\t224\t224\t224\t224\t224\t224\t224\t224\t224\t224\t224\t224\t224\t224\t224\t224\t224\t224\t224\t224\t224\t224\t224\t224\t224\t224\t224\t224\t224\t224\t224\t224\t224\t224\t224\t224\t224\t224\t224\t224\t224\t224\t224\t224\t224\t224\t224\t224\t224\t224\t224\t224\t224\t224\t224\t224\t224\t224\t224\t224\t224\t224\t224\t224\t224\t224\t224\t224\t224\t224\t224\t224\t224\t224\t224\t224\t224\t224\t224\t224\t224\t224\t224\t224\t224\t224\t224\t224\t224\t224\t224\t224\t224\t224\t224\t224\t224\t224\t224\t224\t224\t224\t224\t224\t224\t224\t224\t224\t224\t224\t224\t224\t224\t224\t224\t224\t224\t224\t224\t224\t224\t224\t224\t224\t224\t224\t224\t224\t224\t224\t224\t224\t224\t224\t224\t224\t224\t224\t224\t224\t224\t224\t224\t224\t224\t224\t224\t224\t224\t224\t225\t226\t225\t224\t223\t221\t220\t217\t217\""
   ]
  },
  {
   "cell_type": "code",
   "execution_count": 13,
   "id": "f8b6aed3-520d-46fe-9efa-38fa1a0ca386",
   "metadata": {},
   "outputs": [],
   "source": [
    "frame1 = list(map(int, row1.split()[1:]))"
   ]
  },
  {
   "cell_type": "code",
   "execution_count": 15,
   "id": "26033d69-ed5d-44b4-81e7-ee3c912a52eb",
   "metadata": {},
   "outputs": [],
   "source": [
    "frame1 = np.array(frame1)"
   ]
  },
  {
   "cell_type": "code",
   "execution_count": 30,
   "id": "6193d396-58c0-4939-9c05-a2147dcf56d1",
   "metadata": {},
   "outputs": [],
   "source": [
    "frame1 = frame1.reshape(10, 20)"
   ]
  },
  {
   "cell_type": "code",
   "execution_count": 31,
   "id": "49ed1afb-ba9e-4687-be1c-fba246160d9e",
   "metadata": {},
   "outputs": [
    {
     "data": {
      "text/plain": [
       "<matplotlib.image.AxesImage at 0x10b381670>"
      ]
     },
     "execution_count": 31,
     "metadata": {},
     "output_type": "execute_result"
    },
    {
     "data": {
      "image/png": "[encoded data removed]",
      "text/plain": [
       "<Figure size 640x480 with 1 Axes>"
      ]
     },
     "metadata": {},
     "output_type": "display_data"
    }
   ],
   "source": [
    "plt.imshow(frame1)"
   ]
  },
  {
   "cell_type": "code",
   "execution_count": null,
   "id": "027ea39b-e648-4d61-857e-8f4477bbe842",
   "metadata": {},
   "outputs": [],
   "source": []
  },
  {
   "cell_type": "code",
   "execution_count": 2,
   "id": "5b5e1c88-1cd3-474e-adf6-99c233588187",
   "metadata": {},
   "outputs": [],
   "source": [
    "import pandas as pd"
   ]
  },
  {
   "cell_type": "code",
   "execution_count": 3,
   "id": "272d26ec-2ab8-487b-a164-76dce909b348",
   "metadata": {},
   "outputs": [],
   "source": [
    "image_data = pd.read_csv('img.csv')"
   ]
  },
  {
   "cell_type": "code",
   "execution_count": 31,
   "id": "b1d5b88b-3a6d-4a94-9c3c-86cca22e7804",
   "metadata": {},
   "outputs": [],
   "source": [
    "image_data = image_data.drop('depth', axis=1)"
   ]
  },
  {
   "cell_type": "code",
   "execution_count": 34,
   "id": "391efa0f-7e65-48a7-817c-a103cf260eee",
   "metadata": {},
   "outputs": [],
   "source": [
    "image_data = image_data.astype('Int64')"
   ]
  },
  {
   "cell_type": "code",
   "execution_count": 35,
   "id": "9c688b3c-aa6c-466e-8d4b-5decfe286083",
   "metadata": {},
   "outputs": [
    {
     "data": {
      "text/html": [
       "<div>\n",
       "<style scoped>\n",
       "    .dataframe tbody tr th:only-of-type {\n",
       "        vertical-align: middle;\n",
       "    }\n",
       "\n",
       "    .dataframe tbody tr th {\n",
       "        vertical-align: top;\n",
       "    }\n",
       "\n",
       "    .dataframe thead th {\n",
       "        text-align: right;\n",
       "    }\n",
       "</style>\n",
       "<table border=\"1\" class=\"dataframe\">\n",
       "  <thead>\n",
       "    <tr style=\"text-align: right;\">\n",
       "      <th></th>\n",
       "      <th>col1</th>\n",
       "      <th>col2</th>\n",
       "      <th>col3</th>\n",
       "      <th>col4</th>\n",
       "      <th>col5</th>\n",
       "      <th>col6</th>\n",
       "      <th>col7</th>\n",
       "      <th>col8</th>\n",
       "      <th>col9</th>\n",
       "      <th>col10</th>\n",
       "      <th>...</th>\n",
       "      <th>col191</th>\n",
       "      <th>col192</th>\n",
       "      <th>col193</th>\n",
       "      <th>col194</th>\n",
       "      <th>col195</th>\n",
       "      <th>col196</th>\n",
       "      <th>col197</th>\n",
       "      <th>col198</th>\n",
       "      <th>col199</th>\n",
       "      <th>col200</th>\n",
       "    </tr>\n",
       "  </thead>\n",
       "  <tbody>\n",
       "    <tr>\n",
       "      <th>0</th>\n",
       "      <td>224</td>\n",
       "      <td>224</td>\n",
       "      <td>224</td>\n",
       "      <td>224</td>\n",
       "      <td>224</td>\n",
       "      <td>224</td>\n",
       "      <td>224</td>\n",
       "      <td>224</td>\n",
       "      <td>224</td>\n",
       "      <td>224</td>\n",
       "      <td>...</td>\n",
       "      <td>224</td>\n",
       "      <td>225</td>\n",
       "      <td>226</td>\n",
       "      <td>225</td>\n",
       "      <td>224</td>\n",
       "      <td>223</td>\n",
       "      <td>221</td>\n",
       "      <td>220</td>\n",
       "      <td>217</td>\n",
       "      <td>217</td>\n",
       "    </tr>\n",
       "    <tr>\n",
       "      <th>1</th>\n",
       "      <td>224</td>\n",
       "      <td>224</td>\n",
       "      <td>224</td>\n",
       "      <td>224</td>\n",
       "      <td>224</td>\n",
       "      <td>224</td>\n",
       "      <td>224</td>\n",
       "      <td>224</td>\n",
       "      <td>224</td>\n",
       "      <td>224</td>\n",
       "      <td>...</td>\n",
       "      <td>224</td>\n",
       "      <td>225</td>\n",
       "      <td>226</td>\n",
       "      <td>225</td>\n",
       "      <td>224</td>\n",
       "      <td>223</td>\n",
       "      <td>222</td>\n",
       "      <td>221</td>\n",
       "      <td>219</td>\n",
       "      <td>219</td>\n",
       "    </tr>\n",
       "    <tr>\n",
       "      <th>2</th>\n",
       "      <td>224</td>\n",
       "      <td>224</td>\n",
       "      <td>224</td>\n",
       "      <td>224</td>\n",
       "      <td>224</td>\n",
       "      <td>224</td>\n",
       "      <td>224</td>\n",
       "      <td>224</td>\n",
       "      <td>224</td>\n",
       "      <td>224</td>\n",
       "      <td>...</td>\n",
       "      <td>224</td>\n",
       "      <td>225</td>\n",
       "      <td>226</td>\n",
       "      <td>226</td>\n",
       "      <td>225</td>\n",
       "      <td>224</td>\n",
       "      <td>224</td>\n",
       "      <td>223</td>\n",
       "      <td>223</td>\n",
       "      <td>223</td>\n",
       "    </tr>\n",
       "    <tr>\n",
       "      <th>3</th>\n",
       "      <td>224</td>\n",
       "      <td>224</td>\n",
       "      <td>224</td>\n",
       "      <td>224</td>\n",
       "      <td>224</td>\n",
       "      <td>224</td>\n",
       "      <td>224</td>\n",
       "      <td>224</td>\n",
       "      <td>224</td>\n",
       "      <td>224</td>\n",
       "      <td>...</td>\n",
       "      <td>224</td>\n",
       "      <td>225</td>\n",
       "      <td>226</td>\n",
       "      <td>226</td>\n",
       "      <td>225</td>\n",
       "      <td>225</td>\n",
       "      <td>225</td>\n",
       "      <td>225</td>\n",
       "      <td>225</td>\n",
       "      <td>225</td>\n",
       "    </tr>\n",
       "    <tr>\n",
       "      <th>4</th>\n",
       "      <td>224</td>\n",
       "      <td>224</td>\n",
       "      <td>224</td>\n",
       "      <td>224</td>\n",
       "      <td>224</td>\n",
       "      <td>224</td>\n",
       "      <td>224</td>\n",
       "      <td>224</td>\n",
       "      <td>224</td>\n",
       "      <td>224</td>\n",
       "      <td>...</td>\n",
       "      <td>225</td>\n",
       "      <td>224</td>\n",
       "      <td>223</td>\n",
       "      <td>223</td>\n",
       "      <td>224</td>\n",
       "      <td>224</td>\n",
       "      <td>225</td>\n",
       "      <td>225</td>\n",
       "      <td>225</td>\n",
       "      <td>225</td>\n",
       "    </tr>\n",
       "    <tr>\n",
       "      <th>...</th>\n",
       "      <td>...</td>\n",
       "      <td>...</td>\n",
       "      <td>...</td>\n",
       "      <td>...</td>\n",
       "      <td>...</td>\n",
       "      <td>...</td>\n",
       "      <td>...</td>\n",
       "      <td>...</td>\n",
       "      <td>...</td>\n",
       "      <td>...</td>\n",
       "      <td>...</td>\n",
       "      <td>...</td>\n",
       "      <td>...</td>\n",
       "      <td>...</td>\n",
       "      <td>...</td>\n",
       "      <td>...</td>\n",
       "      <td>...</td>\n",
       "      <td>...</td>\n",
       "      <td>...</td>\n",
       "      <td>...</td>\n",
       "      <td>...</td>\n",
       "    </tr>\n",
       "    <tr>\n",
       "      <th>5456</th>\n",
       "      <td>209</td>\n",
       "      <td>206</td>\n",
       "      <td>199</td>\n",
       "      <td>194</td>\n",
       "      <td>195</td>\n",
       "      <td>195</td>\n",
       "      <td>189</td>\n",
       "      <td>187</td>\n",
       "      <td>198</td>\n",
       "      <td>213</td>\n",
       "      <td>...</td>\n",
       "      <td>188</td>\n",
       "      <td>195</td>\n",
       "      <td>200</td>\n",
       "      <td>203</td>\n",
       "      <td>201</td>\n",
       "      <td>185</td>\n",
       "      <td>166</td>\n",
       "      <td>164</td>\n",
       "      <td>169</td>\n",
       "      <td>170</td>\n",
       "    </tr>\n",
       "    <tr>\n",
       "      <th>5457</th>\n",
       "      <td>184</td>\n",
       "      <td>188</td>\n",
       "      <td>198</td>\n",
       "      <td>205</td>\n",
       "      <td>205</td>\n",
       "      <td>203</td>\n",
       "      <td>197</td>\n",
       "      <td>193</td>\n",
       "      <td>201</td>\n",
       "      <td>212</td>\n",
       "      <td>...</td>\n",
       "      <td>185</td>\n",
       "      <td>186</td>\n",
       "      <td>189</td>\n",
       "      <td>195</td>\n",
       "      <td>197</td>\n",
       "      <td>184</td>\n",
       "      <td>168</td>\n",
       "      <td>167</td>\n",
       "      <td>173</td>\n",
       "      <td>174</td>\n",
       "    </tr>\n",
       "    <tr>\n",
       "      <th>5458</th>\n",
       "      <td>147</td>\n",
       "      <td>161</td>\n",
       "      <td>195</td>\n",
       "      <td>218</td>\n",
       "      <td>218</td>\n",
       "      <td>212</td>\n",
       "      <td>207</td>\n",
       "      <td>201</td>\n",
       "      <td>197</td>\n",
       "      <td>194</td>\n",
       "      <td>...</td>\n",
       "      <td>177</td>\n",
       "      <td>169</td>\n",
       "      <td>167</td>\n",
       "      <td>175</td>\n",
       "      <td>183</td>\n",
       "      <td>182</td>\n",
       "      <td>178</td>\n",
       "      <td>177</td>\n",
       "      <td>179</td>\n",
       "      <td>180</td>\n",
       "    </tr>\n",
       "    <tr>\n",
       "      <th>5459</th>\n",
       "      <td>131</td>\n",
       "      <td>149</td>\n",
       "      <td>194</td>\n",
       "      <td>225</td>\n",
       "      <td>223</td>\n",
       "      <td>216</td>\n",
       "      <td>211</td>\n",
       "      <td>204</td>\n",
       "      <td>196</td>\n",
       "      <td>186</td>\n",
       "      <td>...</td>\n",
       "      <td>174</td>\n",
       "      <td>162</td>\n",
       "      <td>157</td>\n",
       "      <td>167</td>\n",
       "      <td>178</td>\n",
       "      <td>181</td>\n",
       "      <td>181</td>\n",
       "      <td>182</td>\n",
       "      <td>182</td>\n",
       "      <td>182</td>\n",
       "    </tr>\n",
       "    <tr>\n",
       "      <th>5460</th>\n",
       "      <td>&lt;NA&gt;</td>\n",
       "      <td>&lt;NA&gt;</td>\n",
       "      <td>&lt;NA&gt;</td>\n",
       "      <td>&lt;NA&gt;</td>\n",
       "      <td>&lt;NA&gt;</td>\n",
       "      <td>&lt;NA&gt;</td>\n",
       "      <td>&lt;NA&gt;</td>\n",
       "      <td>&lt;NA&gt;</td>\n",
       "      <td>&lt;NA&gt;</td>\n",
       "      <td>&lt;NA&gt;</td>\n",
       "      <td>...</td>\n",
       "      <td>&lt;NA&gt;</td>\n",
       "      <td>&lt;NA&gt;</td>\n",
       "      <td>&lt;NA&gt;</td>\n",
       "      <td>&lt;NA&gt;</td>\n",
       "      <td>&lt;NA&gt;</td>\n",
       "      <td>&lt;NA&gt;</td>\n",
       "      <td>&lt;NA&gt;</td>\n",
       "      <td>&lt;NA&gt;</td>\n",
       "      <td>&lt;NA&gt;</td>\n",
       "      <td>&lt;NA&gt;</td>\n",
       "    </tr>\n",
       "  </tbody>\n",
       "</table>\n",
       "<p>5461 rows × 200 columns</p>\n",
       "</div>"
      ],
      "text/plain": [
       "      col1  col2  col3  col4  col5  col6  col7  col8  col9  col10  ...  \\\n",
       "0      224   224   224   224   224   224   224   224   224    224  ...   \n",
       "1      224   224   224   224   224   224   224   224   224    224  ...   \n",
       "2      224   224   224   224   224   224   224   224   224    224  ...   \n",
       "3      224   224   224   224   224   224   224   224   224    224  ...   \n",
       "4      224   224   224   224   224   224   224   224   224    224  ...   \n",
       "...    ...   ...   ...   ...   ...   ...   ...   ...   ...    ...  ...   \n",
       "5456   209   206   199   194   195   195   189   187   198    213  ...   \n",
       "5457   184   188   198   205   205   203   197   193   201    212  ...   \n",
       "5458   147   161   195   218   218   212   207   201   197    194  ...   \n",
       "5459   131   149   194   225   223   216   211   204   196    186  ...   \n",
       "5460  <NA>  <NA>  <NA>  <NA>  <NA>  <NA>  <NA>  <NA>  <NA>   <NA>  ...   \n",
       "\n",
       "      col191  col192  col193  col194  col195  col196  col197  col198  col199  \\\n",
       "0        224     225     226     225     224     223     221     220     217   \n",
       "1        224     225     226     225     224     223     222     221     219   \n",
       "2        224     225     226     226     225     224     224     223     223   \n",
       "3        224     225     226     226     225     225     225     225     225   \n",
       "4        225     224     223     223     224     224     225     225     225   \n",
       "...      ...     ...     ...     ...     ...     ...     ...     ...     ...   \n",
       "5456     188     195     200     203     201     185     166     164     169   \n",
       "5457     185     186     189     195     197     184     168     167     173   \n",
       "5458     177     169     167     175     183     182     178     177     179   \n",
       "5459     174     162     157     167     178     181     181     182     182   \n",
       "5460    <NA>    <NA>    <NA>    <NA>    <NA>    <NA>    <NA>    <NA>    <NA>   \n",
       "\n",
       "      col200  \n",
       "0        217  \n",
       "1        219  \n",
       "2        223  \n",
       "3        225  \n",
       "4        225  \n",
       "...      ...  \n",
       "5456     170  \n",
       "5457     174  \n",
       "5458     180  \n",
       "5459     182  \n",
       "5460    <NA>  \n",
       "\n",
       "[5461 rows x 200 columns]"
      ]
     },
     "execution_count": 35,
     "metadata": {},
     "output_type": "execute_result"
    }
   ],
   "source": [
    "image_data"
   ]
  },
  {
   "cell_type": "code",
   "execution_count": 48,
   "id": "200fac6a-5fba-4cd8-a5f7-bd4192aacf7e",
   "metadata": {},
   "outputs": [],
   "source": [
    "image_array_list = []"
   ]
  },
  {
   "cell_type": "code",
   "execution_count": 49,
   "id": "73ffc82b-8380-498b-829b-7207315ba1de",
   "metadata": {},
   "outputs": [],
   "source": [
    "for index in range(image_data.shape[0]-1):\n",
    "    row = image_data.loc[index].to_numpy()\n",
    "    image_array_list.append(row)"
   ]
  },
  {
   "cell_type": "code",
   "execution_count": 50,
   "id": "0b845869-efef-4605-a73a-876d705e58ee",
   "metadata": {},
   "outputs": [],
   "source": [
    "image_numpy_array = np.array(image_array_list)"
   ]
  },
  {
   "cell_type": "code",
   "execution_count": 51,
   "id": "fdd9d1f4-3d4b-405c-b264-31e1ce16a050",
   "metadata": {},
   "outputs": [
    {
     "data": {
      "text/plain": [
       "array([[224, 224, 224, ..., 220, 217, 217],\n",
       "       [224, 224, 224, ..., 221, 219, 219],\n",
       "       [224, 224, 224, ..., 223, 223, 223],\n",
       "       ...,\n",
       "       [184, 188, 198, ..., 167, 173, 174],\n",
       "       [147, 161, 195, ..., 177, 179, 180],\n",
       "       [131, 149, 194, ..., 182, 182, 182]])"
      ]
     },
     "execution_count": 51,
     "metadata": {},
     "output_type": "execute_result"
    }
   ],
   "source": [
    "image_numpy_array"
   ]
  },
  {
   "cell_type": "code",
   "execution_count": 52,
   "id": "cd2f6117-37b9-4957-bc68-d345f075ca0f",
   "metadata": {},
   "outputs": [
    {
     "data": {
      "text/plain": [
       "<matplotlib.image.AxesImage at 0x1154bc730>"
      ]
     },
     "execution_count": 52,
     "metadata": {},
     "output_type": "execute_result"
    },
    {
     "data": {
      "image/png": "[encoded data removed]",
      "text/plain": [
       "<Figure size 640x480 with 1 Axes>"
      ]
     },
     "metadata": {},
     "output_type": "display_data"
    }
   ],
   "source": [
    "plt.imshow(image_numpy_array)"
   ]
  },
  {
   "cell_type": "code",
   "execution_count": null,
   "id": "d20a59ad-0b6a-45b1-83e9-24f94aea8cc8",
   "metadata": {},
   "outputs": [],
   "source": []
  },
  {
   "cell_type": "code",
   "execution_count": 1,
   "id": "e24372eb-01ef-49ba-bb2b-7f6435eed518",
   "metadata": {},
   "outputs": [],
   "source": [
    "import cv2"
   ]
  },
  {
   "cell_type": "code",
   "execution_count": 2,
   "id": "37a4628e-6dd7-4b48-b148-e47cd5ff7275",
   "metadata": {},
   "outputs": [],
   "source": [
    "img = cv2.imread(\"test.png\")"
   ]
  },
  {
   "cell_type": "code",
   "execution_count": 3,
   "id": "431f35e3-0447-4a89-8e37-8e514264b136",
   "metadata": {},
   "outputs": [],
   "source": [
    "cv2.imshow(\"image\", img)\n",
    "cv2.waitKey(0)\n",
    "cv2.destroyAllWindows()"
   ]
  },
  {
   "cell_type": "code",
   "execution_count": 15,
   "id": "01ebdb58-2b2d-48b5-bcc0-02d35bee2431",
   "metadata": {},
   "outputs": [
    {
     "data": {
      "text/plain": [
       "array([[[255, 255, 255],\n",
       "        [255, 255, 255],\n",
       "        [255, 255, 255],\n",
       "        ...,\n",
       "        [254, 254, 254],\n",
       "        [254, 254, 254],\n",
       "        [254, 254, 254]],\n",
       "\n",
       "       [[251, 251, 251],\n",
       "        [227, 225, 224],\n",
       "        [223, 219, 218],\n",
       "        ...,\n",
       "        [254, 254, 254],\n",
       "        [255, 255, 255],\n",
       "        [255, 255, 255]],\n",
       "\n",
       "       [[248, 248, 250],\n",
       "        [195, 182, 169],\n",
       "        [168, 156, 118],\n",
       "        ...,\n",
       "        [253, 253, 253],\n",
       "        [255, 255, 255],\n",
       "        [255, 255, 255]],\n",
       "\n",
       "       ...,\n",
       "\n",
       "       [[ 32, 121,  42],\n",
       "        [ 33, 127,  55],\n",
       "        [ 32, 134,  70],\n",
       "        ...,\n",
       "        [ 65, 163, 163],\n",
       "        [ 66, 168, 153],\n",
       "        [ 61, 177, 145]],\n",
       "\n",
       "       [[ 33, 119,  41],\n",
       "        [ 43, 126,  58],\n",
       "        [ 45, 132,  73],\n",
       "        ...,\n",
       "        [ 46, 139, 144],\n",
       "        [ 20, 133, 120],\n",
       "        [ 11, 150, 122]],\n",
       "\n",
       "       [[ 35, 118,  45],\n",
       "        [ 50, 125,  60],\n",
       "        [ 48, 127,  67],\n",
       "        ...,\n",
       "        [ 20, 102,  91],\n",
       "        [  3, 105,  83],\n",
       "        [  9, 137, 111]]], dtype=uint8)"
      ]
     },
     "execution_count": 15,
     "metadata": {},
     "output_type": "execute_result"
    }
   ],
   "source": [
    "img"
   ]
  },
  {
   "cell_type": "code",
   "execution_count": 16,
   "id": "fe117951-2691-4e46-9e39-fdbea8bf1600",
   "metadata": {},
   "outputs": [
    {
     "data": {
      "text/plain": [
       "(141, 200, 3)"
      ]
     },
     "execution_count": 16,
     "metadata": {},
     "output_type": "execute_result"
    }
   ],
   "source": [
    "img.shape"
   ]
  },
  {
   "cell_type": "code",
   "execution_count": null,
   "id": "f889edc3-734a-4438-bc6a-c35cffb2f55a",
   "metadata": {},
   "outputs": [],
   "source": []
  }
 ],
 "metadata": {
  "kernelspec": {
   "display_name": "Python 3 (ipykernel)",
   "language": "python",
   "name": "python3"
  },
  "language_info": {
   "codemirror_mode": {
    "name": "ipython",
    "version": 3
   },
   "file_extension": ".py",
   "mimetype": "text/x-python",
   "name": "python",
   "nbconvert_exporter": "python",
   "pygments_lexer": "ipython3",
   "version": "3.9.15"
  }
 },
 "nbformat": 4,
 "nbformat_minor": 5
}
